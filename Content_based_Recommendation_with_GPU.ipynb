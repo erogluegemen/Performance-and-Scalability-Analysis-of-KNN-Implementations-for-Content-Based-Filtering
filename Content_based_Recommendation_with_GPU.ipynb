{
  "nbformat": 4,
  "nbformat_minor": 0,
  "metadata": {
    "colab": {
      "provenance": [],
      "toc_visible": true,
      "gpuType": "T4",
      "mount_file_id": "1nePHqoN-OqTsr1xmvb-WVCZgQGqtrLps",
      "authorship_tag": "ABX9TyMOZqzEVnjGZMS5/YuCpn1u",
      "include_colab_link": true
    },
    "kernelspec": {
      "name": "python3",
      "display_name": "Python 3"
    },
    "language_info": {
      "name": "python"
    },
    "accelerator": "GPU"
  },
  "cells": [
    {
      "cell_type": "markdown",
      "metadata": {
        "id": "view-in-github",
        "colab_type": "text"
      },
      "source": [
        "<a href=\"https://colab.research.google.com/github/erogluegemen/Recommendation-System-with-GPU/blob/main/Content_based_Recommendation_with_GPU.ipynb\" target=\"_parent\"><img src=\"https://colab.research.google.com/assets/colab-badge.svg\" alt=\"Open In Colab\"/></a>"
      ]
    },
    {
      "cell_type": "markdown",
      "source": [
        "# Content-based Recommendation with GPU"
      ],
      "metadata": {
        "id": "iu2q8zI1YeVH"
      }
    },
    {
      "cell_type": "markdown",
      "source": [
        "**Important Note**\n",
        "\n",
        "[RAPIDS CUML Documentation](https://docs.rapids.ai/api/cuml/stable/api/)\n",
        "\n",
        "> **_NOTE:_**  The ‘jaccard’ distance metric is only supported for **sparse** inputs."
      ],
      "metadata": {
        "id": "qehz--OMyFxI"
      }
    },
    {
      "cell_type": "markdown",
      "source": [
        "# The Logic Behind GPU Accelerated KNN\n",
        "\n",
        "All the optimizations we've done so far are just making the **CPU** work more efficiently(maybe with some parallelism or concurrency).\n",
        "\n",
        "To use a **GPU**, entire problem must be reframed w.r.t the language of **linear algebra** (matrices and vectors). GPUs are designed to perform thousands of simple math operations (like *ADD* and *MUL*) at the same time, which is what matrix operations are.\n",
        "\n",
        "## The Key: The RAPIDS Ecosystem\n",
        "\n",
        "* **`cuDF`**: This is _pandas on the GPU._ We gonna use it to create DataFrames that live in the GPU's memory.\n",
        "\n",
        "* **`cuML`**: This is _scikit-learn on the GPU._ It has incredible fast, GPU supported versions of common algorithms, including KNN.\n",
        "\n",
        "* **`CuPy`**: This is _NumPy on the GPU._\n",
        "\n",
        "## How Problem Changes for a GPU\n",
        "\n",
        "### 1. Data\n",
        "\n",
        "**CPU (what we had):**\n",
        "```python\n",
        "{1: {'Animation', 'Children', 'Comedy'}}\n",
        "```\n",
        "\n",
        "**GPU (what we will build, binary multi ohe matrix):**\n",
        "| movieId | Action | Adventure | Animation | Children | Comedy | ... |\n",
        "| :--- | :---: | :---: | :---: | :---: | :---: | :---: |\n",
        "| 1 | 0 | 0 | 1 | 1 | 1 | ... |\n",
        "| 2 | 0 | 1 | 0 | 1 | 0 | ... |\n",
        "| 3 | 0 | 0 | 0 | 0 | 1 | ... |\n",
        "\n",
        "This matrix **$G$**, is fully numerical and perfect for GPU.\n",
        "\n",
        "### 2. KNN: From $O(N^2)$ Loops to Matrix Multiplication\n",
        "\n",
        "CPU function calculates approx. 47 million Jaccard similarities one by one. On a GPU, we do it *all at once* using matrix algebra.\n",
        "\n",
        "#### **Intersection Matrix ($I$)**\n",
        "The number of shared genres between *all* pairs of movies is calculated in one operation:\n",
        "\n",
        "$$ I = G \\cdot G^T $$\n",
        "\n",
        "* The resulting matrix $I$ (size $9742 \\times 9742$) will have $I_{ij}$ = the intersection size (shared genre count) between movie $i$ and movie $j$.\n",
        "\n",
        "#### **Union Size Matrix ($U$)**\n",
        "First, we get a vector $C$ of the genre counts for each movie (the sum of each row in $G$).\n",
        "\n",
        "$$ C_i = \\sum_{k} G_{ik} $$\n",
        "\n",
        "The union size for any two movies $i$ and $j$ is $\\text{Union} = |A| + |B| - \\text{Intersection}$. We can build the full $9742 \\times 9742$ union matrix $U$ like this:\n",
        "\n",
        "$$ U_{ij} = C_i + C_j - I_{ij} $$\n",
        "\n",
        "This is also a single, fast GPU operation.\n",
        "\n",
        "#### **Jaccard Similarity Matrix ($S$)**\n",
        "Finally, the Jaccard similarity is the intersection divided by the union. We can do this for the *entire matrix* at once:\n",
        "\n",
        "$$ S = \\frac{I}{U} $$\n",
        "\n",
        "In just 3 steps, we have the similarity score for every movie mapped to every other movie."
      ],
      "metadata": {
        "id": "brq0YIlRtmqt"
      }
    },
    {
      "cell_type": "markdown",
      "source": [
        "## NVIDIA GPU RAPIDS CONFIG"
      ],
      "metadata": {
        "id": "Z9kqCzKdncHl"
      }
    },
    {
      "cell_type": "code",
      "source": [
        "!git clone https://github.com/rapidsai/rapidsai-csp-utils.git\n",
        "!python rapidsai-csp-utils/colab/env-check.py\n",
        "\n",
        "!bash rapidsai-csp-utils/colab/install.sh\n",
        "\n",
        "import sys\n",
        "sys.path.append('/usr/local/lib/python3.10/site-packages/')"
      ],
      "metadata": {
        "colab": {
          "base_uri": "https://localhost:8080/"
        },
        "id": "iahRHnall5Qh",
        "outputId": "4ccbebe8-dbe1-4625-c9b1-95270380e2ea"
      },
      "execution_count": 1,
      "outputs": [
        {
          "output_type": "stream",
          "name": "stdout",
          "text": [
            "Cloning into 'rapidsai-csp-utils'...\n",
            "remote: Enumerating objects: 603, done.\u001b[K\n",
            "remote: Counting objects: 100% (169/169), done.\u001b[K\n",
            "remote: Compressing objects: 100% (87/87), done.\u001b[K\n",
            "remote: Total 603 (delta 131), reused 82 (delta 82), pack-reused 434 (from 3)\u001b[K\n",
            "Receiving objects: 100% (603/603), 199.38 KiB | 8.31 MiB/s, done.\n",
            "Resolving deltas: 100% (305/305), done.\n",
            "***********************************************************************\n",
            "Woo! Your instance has the right kind of GPU, a Tesla T4!\n",
            "We will now install RAPIDS via pip!  Please stand by, should be quick...\n",
            "***********************************************************************\n",
            "\n",
            "bash: rapidsai-csp-utils/colab/install.sh: No such file or directory\n"
          ]
        }
      ]
    },
    {
      "cell_type": "markdown",
      "source": [
        "## LIBRARIES"
      ],
      "metadata": {
        "id": "EhA3vMVzxzfi"
      }
    },
    {
      "cell_type": "code",
      "source": [
        "import time\n",
        "import pandas as pd\n",
        "import seaborn as sns\n",
        "import matplotlib.pyplot as plt\n",
        "\n",
        "import cudf\n",
        "import cupy as cp\n",
        "\n",
        "import scipy.sparse\n",
        "import cupyx.scipy.sparse as cupy_sparse\n",
        "from cuml.neighbors import NearestNeighbors"
      ],
      "metadata": {
        "id": "D6kEoYNmntnc"
      },
      "execution_count": 2,
      "outputs": []
    },
    {
      "cell_type": "markdown",
      "source": [
        "## SETUP"
      ],
      "metadata": {
        "id": "PEu1PddQx2MR"
      }
    },
    {
      "cell_type": "code",
      "source": [
        "PATH = \"/content/drive/MyDrive/Recommendation_Systems/datasets/movies.csv\"\n",
        "movies_cpu = pd.read_csv(filepath_or_buffer=PATH, sep=\",\")\n",
        "movies_cpu.info()"
      ],
      "metadata": {
        "colab": {
          "base_uri": "https://localhost:8080/"
        },
        "id": "4swiYSJxyJSY",
        "outputId": "39b2887c-1ba9-4ac9-e49c-5a59c6f8953c"
      },
      "execution_count": 8,
      "outputs": [
        {
          "output_type": "stream",
          "name": "stdout",
          "text": [
            "<class 'pandas.core.frame.DataFrame'>\n",
            "RangeIndex: 9742 entries, 0 to 9741\n",
            "Data columns (total 3 columns):\n",
            " #   Column   Non-Null Count  Dtype \n",
            "---  ------   --------------  ----- \n",
            " 0   movieId  9742 non-null   int64 \n",
            " 1   title    9742 non-null   object\n",
            " 2   genres   9742 non-null   object\n",
            "dtypes: int64(1), object(2)\n",
            "memory usage: 228.5+ KB\n"
          ]
        }
      ]
    },
    {
      "cell_type": "code",
      "source": [
        "K = 10\n",
        "PATH = \"/content/drive/MyDrive/Recommendation_Systems/datasets/movies.csv\"\n",
        "movies_cpu = pd.read_csv(filepath_or_buffer=PATH, sep=\",\")\n",
        "\n",
        "# Encode\n",
        "genres_cpu = movies_cpu['genres'].str.get_dummies(sep='|')\n",
        "genres_cpu.index = movies_cpu['movieId']\n",
        "\n",
        "print(f\"Genre matrix shape: {genres_cpu.shape}\")\n",
        "display(genres_cpu.head(3))"
      ],
      "metadata": {
        "colab": {
          "base_uri": "https://localhost:8080/",
          "height": 247
        },
        "id": "dsD-0qXInx3A",
        "outputId": "f7696a52-fddc-435f-f8b2-18190cae7102"
      },
      "execution_count": 14,
      "outputs": [
        {
          "output_type": "stream",
          "name": "stdout",
          "text": [
            "Genre matrix shape: (9742, 20)\n"
          ]
        },
        {
          "output_type": "display_data",
          "data": {
            "text/plain": [
              "         (no genres listed)  Action  Adventure  Animation  Children  Comedy  \\\n",
              "movieId                                                                       \n",
              "1                         0       0          1          1         1       1   \n",
              "2                         0       0          1          0         1       0   \n",
              "3                         0       0          0          0         0       1   \n",
              "\n",
              "         Crime  Documentary  Drama  Fantasy  Film-Noir  Horror  IMAX  Musical  \\\n",
              "movieId                                                                         \n",
              "1            0            0      0        1          0       0     0        0   \n",
              "2            0            0      0        1          0       0     0        0   \n",
              "3            0            0      0        0          0       0     0        0   \n",
              "\n",
              "         Mystery  Romance  Sci-Fi  Thriller  War  Western  \n",
              "movieId                                                    \n",
              "1              0        0       0         0    0        0  \n",
              "2              0        0       0         0    0        0  \n",
              "3              0        1       0         0    0        0  "
            ],
            "text/html": [
              "\n",
              "  <div id=\"df-02d7bb43-2cee-48c2-9bed-ae7ad6c806f5\" class=\"colab-df-container\">\n",
              "    <div>\n",
              "<style scoped>\n",
              "    .dataframe tbody tr th:only-of-type {\n",
              "        vertical-align: middle;\n",
              "    }\n",
              "\n",
              "    .dataframe tbody tr th {\n",
              "        vertical-align: top;\n",
              "    }\n",
              "\n",
              "    .dataframe thead th {\n",
              "        text-align: right;\n",
              "    }\n",
              "</style>\n",
              "<table border=\"1\" class=\"dataframe\">\n",
              "  <thead>\n",
              "    <tr style=\"text-align: right;\">\n",
              "      <th></th>\n",
              "      <th>(no genres listed)</th>\n",
              "      <th>Action</th>\n",
              "      <th>Adventure</th>\n",
              "      <th>Animation</th>\n",
              "      <th>Children</th>\n",
              "      <th>Comedy</th>\n",
              "      <th>Crime</th>\n",
              "      <th>Documentary</th>\n",
              "      <th>Drama</th>\n",
              "      <th>Fantasy</th>\n",
              "      <th>Film-Noir</th>\n",
              "      <th>Horror</th>\n",
              "      <th>IMAX</th>\n",
              "      <th>Musical</th>\n",
              "      <th>Mystery</th>\n",
              "      <th>Romance</th>\n",
              "      <th>Sci-Fi</th>\n",
              "      <th>Thriller</th>\n",
              "      <th>War</th>\n",
              "      <th>Western</th>\n",
              "    </tr>\n",
              "    <tr>\n",
              "      <th>movieId</th>\n",
              "      <th></th>\n",
              "      <th></th>\n",
              "      <th></th>\n",
              "      <th></th>\n",
              "      <th></th>\n",
              "      <th></th>\n",
              "      <th></th>\n",
              "      <th></th>\n",
              "      <th></th>\n",
              "      <th></th>\n",
              "      <th></th>\n",
              "      <th></th>\n",
              "      <th></th>\n",
              "      <th></th>\n",
              "      <th></th>\n",
              "      <th></th>\n",
              "      <th></th>\n",
              "      <th></th>\n",
              "      <th></th>\n",
              "      <th></th>\n",
              "    </tr>\n",
              "  </thead>\n",
              "  <tbody>\n",
              "    <tr>\n",
              "      <th>1</th>\n",
              "      <td>0</td>\n",
              "      <td>0</td>\n",
              "      <td>1</td>\n",
              "      <td>1</td>\n",
              "      <td>1</td>\n",
              "      <td>1</td>\n",
              "      <td>0</td>\n",
              "      <td>0</td>\n",
              "      <td>0</td>\n",
              "      <td>1</td>\n",
              "      <td>0</td>\n",
              "      <td>0</td>\n",
              "      <td>0</td>\n",
              "      <td>0</td>\n",
              "      <td>0</td>\n",
              "      <td>0</td>\n",
              "      <td>0</td>\n",
              "      <td>0</td>\n",
              "      <td>0</td>\n",
              "      <td>0</td>\n",
              "    </tr>\n",
              "    <tr>\n",
              "      <th>2</th>\n",
              "      <td>0</td>\n",
              "      <td>0</td>\n",
              "      <td>1</td>\n",
              "      <td>0</td>\n",
              "      <td>1</td>\n",
              "      <td>0</td>\n",
              "      <td>0</td>\n",
              "      <td>0</td>\n",
              "      <td>0</td>\n",
              "      <td>1</td>\n",
              "      <td>0</td>\n",
              "      <td>0</td>\n",
              "      <td>0</td>\n",
              "      <td>0</td>\n",
              "      <td>0</td>\n",
              "      <td>0</td>\n",
              "      <td>0</td>\n",
              "      <td>0</td>\n",
              "      <td>0</td>\n",
              "      <td>0</td>\n",
              "    </tr>\n",
              "    <tr>\n",
              "      <th>3</th>\n",
              "      <td>0</td>\n",
              "      <td>0</td>\n",
              "      <td>0</td>\n",
              "      <td>0</td>\n",
              "      <td>0</td>\n",
              "      <td>1</td>\n",
              "      <td>0</td>\n",
              "      <td>0</td>\n",
              "      <td>0</td>\n",
              "      <td>0</td>\n",
              "      <td>0</td>\n",
              "      <td>0</td>\n",
              "      <td>0</td>\n",
              "      <td>0</td>\n",
              "      <td>0</td>\n",
              "      <td>1</td>\n",
              "      <td>0</td>\n",
              "      <td>0</td>\n",
              "      <td>0</td>\n",
              "      <td>0</td>\n",
              "    </tr>\n",
              "  </tbody>\n",
              "</table>\n",
              "</div>\n",
              "    <div class=\"colab-df-buttons\">\n",
              "\n",
              "  <div class=\"colab-df-container\">\n",
              "    <button class=\"colab-df-convert\" onclick=\"convertToInteractive('df-02d7bb43-2cee-48c2-9bed-ae7ad6c806f5')\"\n",
              "            title=\"Convert this dataframe to an interactive table.\"\n",
              "            style=\"display:none;\">\n",
              "\n",
              "  <svg xmlns=\"http://www.w3.org/2000/svg\" height=\"24px\" viewBox=\"0 -960 960 960\">\n",
              "    <path d=\"M120-120v-720h720v720H120Zm60-500h600v-160H180v160Zm220 220h160v-160H400v160Zm0 220h160v-160H400v160ZM180-400h160v-160H180v160Zm440 0h160v-160H620v160ZM180-180h160v-160H180v160Zm440 0h160v-160H620v160Z\"/>\n",
              "  </svg>\n",
              "    </button>\n",
              "\n",
              "  <style>\n",
              "    .colab-df-container {\n",
              "      display:flex;\n",
              "      gap: 12px;\n",
              "    }\n",
              "\n",
              "    .colab-df-convert {\n",
              "      background-color: #E8F0FE;\n",
              "      border: none;\n",
              "      border-radius: 50%;\n",
              "      cursor: pointer;\n",
              "      display: none;\n",
              "      fill: #1967D2;\n",
              "      height: 32px;\n",
              "      padding: 0 0 0 0;\n",
              "      width: 32px;\n",
              "    }\n",
              "\n",
              "    .colab-df-convert:hover {\n",
              "      background-color: #E2EBFA;\n",
              "      box-shadow: 0px 1px 2px rgba(60, 64, 67, 0.3), 0px 1px 3px 1px rgba(60, 64, 67, 0.15);\n",
              "      fill: #174EA6;\n",
              "    }\n",
              "\n",
              "    .colab-df-buttons div {\n",
              "      margin-bottom: 4px;\n",
              "    }\n",
              "\n",
              "    [theme=dark] .colab-df-convert {\n",
              "      background-color: #3B4455;\n",
              "      fill: #D2E3FC;\n",
              "    }\n",
              "\n",
              "    [theme=dark] .colab-df-convert:hover {\n",
              "      background-color: #434B5C;\n",
              "      box-shadow: 0px 1px 3px 1px rgba(0, 0, 0, 0.15);\n",
              "      filter: drop-shadow(0px 1px 2px rgba(0, 0, 0, 0.3));\n",
              "      fill: #FFFFFF;\n",
              "    }\n",
              "  </style>\n",
              "\n",
              "    <script>\n",
              "      const buttonEl =\n",
              "        document.querySelector('#df-02d7bb43-2cee-48c2-9bed-ae7ad6c806f5 button.colab-df-convert');\n",
              "      buttonEl.style.display =\n",
              "        google.colab.kernel.accessAllowed ? 'block' : 'none';\n",
              "\n",
              "      async function convertToInteractive(key) {\n",
              "        const element = document.querySelector('#df-02d7bb43-2cee-48c2-9bed-ae7ad6c806f5');\n",
              "        const dataTable =\n",
              "          await google.colab.kernel.invokeFunction('convertToInteractive',\n",
              "                                                    [key], {});\n",
              "        if (!dataTable) return;\n",
              "\n",
              "        const docLinkHtml = 'Like what you see? Visit the ' +\n",
              "          '<a target=\"_blank\" href=https://colab.research.google.com/notebooks/data_table.ipynb>data table notebook</a>'\n",
              "          + ' to learn more about interactive tables.';\n",
              "        element.innerHTML = '';\n",
              "        dataTable['output_type'] = 'display_data';\n",
              "        await google.colab.output.renderOutput(dataTable, element);\n",
              "        const docLink = document.createElement('div');\n",
              "        docLink.innerHTML = docLinkHtml;\n",
              "        element.appendChild(docLink);\n",
              "      }\n",
              "    </script>\n",
              "  </div>\n",
              "\n",
              "\n",
              "    <div id=\"df-35e4c3ef-5144-4e23-9e21-7699b29f96d7\">\n",
              "      <button class=\"colab-df-quickchart\" onclick=\"quickchart('df-35e4c3ef-5144-4e23-9e21-7699b29f96d7')\"\n",
              "                title=\"Suggest charts\"\n",
              "                style=\"display:none;\">\n",
              "\n",
              "<svg xmlns=\"http://www.w3.org/2000/svg\" height=\"24px\"viewBox=\"0 0 24 24\"\n",
              "     width=\"24px\">\n",
              "    <g>\n",
              "        <path d=\"M19 3H5c-1.1 0-2 .9-2 2v14c0 1.1.9 2 2 2h14c1.1 0 2-.9 2-2V5c0-1.1-.9-2-2-2zM9 17H7v-7h2v7zm4 0h-2V7h2v10zm4 0h-2v-4h2v4z\"/>\n",
              "    </g>\n",
              "</svg>\n",
              "      </button>\n",
              "\n",
              "<style>\n",
              "  .colab-df-quickchart {\n",
              "      --bg-color: #E8F0FE;\n",
              "      --fill-color: #1967D2;\n",
              "      --hover-bg-color: #E2EBFA;\n",
              "      --hover-fill-color: #174EA6;\n",
              "      --disabled-fill-color: #AAA;\n",
              "      --disabled-bg-color: #DDD;\n",
              "  }\n",
              "\n",
              "  [theme=dark] .colab-df-quickchart {\n",
              "      --bg-color: #3B4455;\n",
              "      --fill-color: #D2E3FC;\n",
              "      --hover-bg-color: #434B5C;\n",
              "      --hover-fill-color: #FFFFFF;\n",
              "      --disabled-bg-color: #3B4455;\n",
              "      --disabled-fill-color: #666;\n",
              "  }\n",
              "\n",
              "  .colab-df-quickchart {\n",
              "    background-color: var(--bg-color);\n",
              "    border: none;\n",
              "    border-radius: 50%;\n",
              "    cursor: pointer;\n",
              "    display: none;\n",
              "    fill: var(--fill-color);\n",
              "    height: 32px;\n",
              "    padding: 0;\n",
              "    width: 32px;\n",
              "  }\n",
              "\n",
              "  .colab-df-quickchart:hover {\n",
              "    background-color: var(--hover-bg-color);\n",
              "    box-shadow: 0 1px 2px rgba(60, 64, 67, 0.3), 0 1px 3px 1px rgba(60, 64, 67, 0.15);\n",
              "    fill: var(--button-hover-fill-color);\n",
              "  }\n",
              "\n",
              "  .colab-df-quickchart-complete:disabled,\n",
              "  .colab-df-quickchart-complete:disabled:hover {\n",
              "    background-color: var(--disabled-bg-color);\n",
              "    fill: var(--disabled-fill-color);\n",
              "    box-shadow: none;\n",
              "  }\n",
              "\n",
              "  .colab-df-spinner {\n",
              "    border: 2px solid var(--fill-color);\n",
              "    border-color: transparent;\n",
              "    border-bottom-color: var(--fill-color);\n",
              "    animation:\n",
              "      spin 1s steps(1) infinite;\n",
              "  }\n",
              "\n",
              "  @keyframes spin {\n",
              "    0% {\n",
              "      border-color: transparent;\n",
              "      border-bottom-color: var(--fill-color);\n",
              "      border-left-color: var(--fill-color);\n",
              "    }\n",
              "    20% {\n",
              "      border-color: transparent;\n",
              "      border-left-color: var(--fill-color);\n",
              "      border-top-color: var(--fill-color);\n",
              "    }\n",
              "    30% {\n",
              "      border-color: transparent;\n",
              "      border-left-color: var(--fill-color);\n",
              "      border-top-color: var(--fill-color);\n",
              "      border-right-color: var(--fill-color);\n",
              "    }\n",
              "    40% {\n",
              "      border-color: transparent;\n",
              "      border-right-color: var(--fill-color);\n",
              "      border-top-color: var(--fill-color);\n",
              "    }\n",
              "    60% {\n",
              "      border-color: transparent;\n",
              "      border-right-color: var(--fill-color);\n",
              "    }\n",
              "    80% {\n",
              "      border-color: transparent;\n",
              "      border-right-color: var(--fill-color);\n",
              "      border-bottom-color: var(--fill-color);\n",
              "    }\n",
              "    90% {\n",
              "      border-color: transparent;\n",
              "      border-bottom-color: var(--fill-color);\n",
              "    }\n",
              "  }\n",
              "</style>\n",
              "\n",
              "      <script>\n",
              "        async function quickchart(key) {\n",
              "          const quickchartButtonEl =\n",
              "            document.querySelector('#' + key + ' button');\n",
              "          quickchartButtonEl.disabled = true;  // To prevent multiple clicks.\n",
              "          quickchartButtonEl.classList.add('colab-df-spinner');\n",
              "          try {\n",
              "            const charts = await google.colab.kernel.invokeFunction(\n",
              "                'suggestCharts', [key], {});\n",
              "          } catch (error) {\n",
              "            console.error('Error during call to suggestCharts:', error);\n",
              "          }\n",
              "          quickchartButtonEl.classList.remove('colab-df-spinner');\n",
              "          quickchartButtonEl.classList.add('colab-df-quickchart-complete');\n",
              "        }\n",
              "        (() => {\n",
              "          let quickchartButtonEl =\n",
              "            document.querySelector('#df-35e4c3ef-5144-4e23-9e21-7699b29f96d7 button');\n",
              "          quickchartButtonEl.style.display =\n",
              "            google.colab.kernel.accessAllowed ? 'block' : 'none';\n",
              "        })();\n",
              "      </script>\n",
              "    </div>\n",
              "\n",
              "    </div>\n",
              "  </div>\n"
            ],
            "application/vnd.google.colaboratory.intrinsic+json": {
              "type": "dataframe",
              "summary": "{\n  \"name\": \"display(genres_cpu\",\n  \"rows\": 3,\n  \"fields\": [\n    {\n      \"column\": \"movieId\",\n      \"properties\": {\n        \"dtype\": \"number\",\n        \"std\": 1,\n        \"min\": 1,\n        \"max\": 3,\n        \"num_unique_values\": 3,\n        \"samples\": [\n          1,\n          2,\n          3\n        ],\n        \"semantic_type\": \"\",\n        \"description\": \"\"\n      }\n    },\n    {\n      \"column\": \"(no genres listed)\",\n      \"properties\": {\n        \"dtype\": \"number\",\n        \"std\": 0,\n        \"min\": 0,\n        \"max\": 0,\n        \"num_unique_values\": 1,\n        \"samples\": [\n          0\n        ],\n        \"semantic_type\": \"\",\n        \"description\": \"\"\n      }\n    },\n    {\n      \"column\": \"Action\",\n      \"properties\": {\n        \"dtype\": \"number\",\n        \"std\": 0,\n        \"min\": 0,\n        \"max\": 0,\n        \"num_unique_values\": 1,\n        \"samples\": [\n          0\n        ],\n        \"semantic_type\": \"\",\n        \"description\": \"\"\n      }\n    },\n    {\n      \"column\": \"Adventure\",\n      \"properties\": {\n        \"dtype\": \"number\",\n        \"std\": 0,\n        \"min\": 0,\n        \"max\": 1,\n        \"num_unique_values\": 2,\n        \"samples\": [\n          0\n        ],\n        \"semantic_type\": \"\",\n        \"description\": \"\"\n      }\n    },\n    {\n      \"column\": \"Animation\",\n      \"properties\": {\n        \"dtype\": \"number\",\n        \"std\": 0,\n        \"min\": 0,\n        \"max\": 1,\n        \"num_unique_values\": 2,\n        \"samples\": [\n          0\n        ],\n        \"semantic_type\": \"\",\n        \"description\": \"\"\n      }\n    },\n    {\n      \"column\": \"Children\",\n      \"properties\": {\n        \"dtype\": \"number\",\n        \"std\": 0,\n        \"min\": 0,\n        \"max\": 1,\n        \"num_unique_values\": 2,\n        \"samples\": [\n          0\n        ],\n        \"semantic_type\": \"\",\n        \"description\": \"\"\n      }\n    },\n    {\n      \"column\": \"Comedy\",\n      \"properties\": {\n        \"dtype\": \"number\",\n        \"std\": 0,\n        \"min\": 0,\n        \"max\": 1,\n        \"num_unique_values\": 2,\n        \"samples\": [\n          0\n        ],\n        \"semantic_type\": \"\",\n        \"description\": \"\"\n      }\n    },\n    {\n      \"column\": \"Crime\",\n      \"properties\": {\n        \"dtype\": \"number\",\n        \"std\": 0,\n        \"min\": 0,\n        \"max\": 0,\n        \"num_unique_values\": 1,\n        \"samples\": [\n          0\n        ],\n        \"semantic_type\": \"\",\n        \"description\": \"\"\n      }\n    },\n    {\n      \"column\": \"Documentary\",\n      \"properties\": {\n        \"dtype\": \"number\",\n        \"std\": 0,\n        \"min\": 0,\n        \"max\": 0,\n        \"num_unique_values\": 1,\n        \"samples\": [\n          0\n        ],\n        \"semantic_type\": \"\",\n        \"description\": \"\"\n      }\n    },\n    {\n      \"column\": \"Drama\",\n      \"properties\": {\n        \"dtype\": \"number\",\n        \"std\": 0,\n        \"min\": 0,\n        \"max\": 0,\n        \"num_unique_values\": 1,\n        \"samples\": [\n          0\n        ],\n        \"semantic_type\": \"\",\n        \"description\": \"\"\n      }\n    },\n    {\n      \"column\": \"Fantasy\",\n      \"properties\": {\n        \"dtype\": \"number\",\n        \"std\": 0,\n        \"min\": 0,\n        \"max\": 1,\n        \"num_unique_values\": 2,\n        \"samples\": [\n          0\n        ],\n        \"semantic_type\": \"\",\n        \"description\": \"\"\n      }\n    },\n    {\n      \"column\": \"Film-Noir\",\n      \"properties\": {\n        \"dtype\": \"number\",\n        \"std\": 0,\n        \"min\": 0,\n        \"max\": 0,\n        \"num_unique_values\": 1,\n        \"samples\": [\n          0\n        ],\n        \"semantic_type\": \"\",\n        \"description\": \"\"\n      }\n    },\n    {\n      \"column\": \"Horror\",\n      \"properties\": {\n        \"dtype\": \"number\",\n        \"std\": 0,\n        \"min\": 0,\n        \"max\": 0,\n        \"num_unique_values\": 1,\n        \"samples\": [\n          0\n        ],\n        \"semantic_type\": \"\",\n        \"description\": \"\"\n      }\n    },\n    {\n      \"column\": \"IMAX\",\n      \"properties\": {\n        \"dtype\": \"number\",\n        \"std\": 0,\n        \"min\": 0,\n        \"max\": 0,\n        \"num_unique_values\": 1,\n        \"samples\": [\n          0\n        ],\n        \"semantic_type\": \"\",\n        \"description\": \"\"\n      }\n    },\n    {\n      \"column\": \"Musical\",\n      \"properties\": {\n        \"dtype\": \"number\",\n        \"std\": 0,\n        \"min\": 0,\n        \"max\": 0,\n        \"num_unique_values\": 1,\n        \"samples\": [\n          0\n        ],\n        \"semantic_type\": \"\",\n        \"description\": \"\"\n      }\n    },\n    {\n      \"column\": \"Mystery\",\n      \"properties\": {\n        \"dtype\": \"number\",\n        \"std\": 0,\n        \"min\": 0,\n        \"max\": 0,\n        \"num_unique_values\": 1,\n        \"samples\": [\n          0\n        ],\n        \"semantic_type\": \"\",\n        \"description\": \"\"\n      }\n    },\n    {\n      \"column\": \"Romance\",\n      \"properties\": {\n        \"dtype\": \"number\",\n        \"std\": 0,\n        \"min\": 0,\n        \"max\": 1,\n        \"num_unique_values\": 2,\n        \"samples\": [\n          1\n        ],\n        \"semantic_type\": \"\",\n        \"description\": \"\"\n      }\n    },\n    {\n      \"column\": \"Sci-Fi\",\n      \"properties\": {\n        \"dtype\": \"number\",\n        \"std\": 0,\n        \"min\": 0,\n        \"max\": 0,\n        \"num_unique_values\": 1,\n        \"samples\": [\n          0\n        ],\n        \"semantic_type\": \"\",\n        \"description\": \"\"\n      }\n    },\n    {\n      \"column\": \"Thriller\",\n      \"properties\": {\n        \"dtype\": \"number\",\n        \"std\": 0,\n        \"min\": 0,\n        \"max\": 0,\n        \"num_unique_values\": 1,\n        \"samples\": [\n          0\n        ],\n        \"semantic_type\": \"\",\n        \"description\": \"\"\n      }\n    },\n    {\n      \"column\": \"War\",\n      \"properties\": {\n        \"dtype\": \"number\",\n        \"std\": 0,\n        \"min\": 0,\n        \"max\": 0,\n        \"num_unique_values\": 1,\n        \"samples\": [\n          0\n        ],\n        \"semantic_type\": \"\",\n        \"description\": \"\"\n      }\n    },\n    {\n      \"column\": \"Western\",\n      \"properties\": {\n        \"dtype\": \"number\",\n        \"std\": 0,\n        \"min\": 0,\n        \"max\": 0,\n        \"num_unique_values\": 1,\n        \"samples\": [\n          0\n        ],\n        \"semantic_type\": \"\",\n        \"description\": \"\"\n      }\n    }\n  ]\n}"
            }
          },
          "metadata": {}
        }
      ]
    },
    {
      "cell_type": "markdown",
      "source": [
        "## DATA TRANSFORMATION"
      ],
      "metadata": {
        "id": "--373Btnx4_B"
      }
    },
    {
      "cell_type": "code",
      "source": [
        "print(f\"Original dense CPU shape: {genres_cpu.shape}\")\n",
        "\n",
        "print(\"\\nConverting CPU pandas -> CPU sparse\")\n",
        "genres_sparse_cpu = scipy.sparse.csr_matrix(genres_cpu.values, dtype='bool')\n",
        "\n",
        "print(\"\\nTransferring CPU sparse -> GPU sparse\")\n",
        "start_transfer = time.time()\n",
        "\n",
        "G_gpu_sparse = cupy_sparse.csr_matrix(genres_sparse_cpu)\n",
        "\n",
        "end_transfer = time.time()\n",
        "print(f\"Transfer time: {end_transfer - start_transfer:.4f} seconds\")\n",
        "\n",
        "print(f\"\\nType of G_gpu_sparse: {type(G_gpu_sparse)}\")\n",
        "print(f\"Shape of G_gpu_sparse: {G_gpu_sparse.shape}\")\n",
        "print(f\"Dtype of G_gpu_sparse: {G_gpu_sparse.dtype}\")"
      ],
      "metadata": {
        "colab": {
          "base_uri": "https://localhost:8080/"
        },
        "id": "5n8SjZYquF3p",
        "outputId": "91363e6e-ce2c-4c46-8776-e414604d4273"
      },
      "execution_count": 15,
      "outputs": [
        {
          "output_type": "stream",
          "name": "stdout",
          "text": [
            "Original dense CPU shape: (9742, 20)\n",
            "\n",
            "Converting CPU pandas -> CPU sparse\n",
            "\n",
            "Transferring CPU sparse -> GPU sparse\n",
            "Transfer time: 0.0010 seconds\n",
            "\n",
            "Type of G_gpu_sparse: <class 'cupyx.scipy.sparse._csr.csr_matrix'>\n",
            "Shape of G_gpu_sparse: (9742, 20)\n",
            "Dtype of G_gpu_sparse: bool\n"
          ]
        }
      ]
    },
    {
      "cell_type": "markdown",
      "source": [
        "## BUILD KNN"
      ],
      "metadata": {
        "id": "s99t5tapx8Gh"
      }
    },
    {
      "cell_type": "code",
      "source": [
        "print(f\"Starting GPU KNN build for K={K}\")\n",
        "\n",
        "knn_model = NearestNeighbors(n_neighbors=K+1, metric='jaccard', algorithm='brute')\n",
        "\n",
        "start_fit = time.time()\n",
        "print(f\"\\nFitting model with sparse input...\")\n",
        "knn_model.fit(G_gpu_sparse)\n",
        "\n",
        "end_fit = time.time()\n",
        "print(f\"\\nGPU fit time: {end_fit - start_fit:.4f} seconds\")\n",
        "\n",
        "start_query = time.time()\n",
        "distances, indices = knn_model.kneighbors(G_gpu_sparse)\n",
        "end_query = time.time()\n",
        "print(f\"GPU query time: {end_query - start_query:.4f} seconds\")\n",
        "\n",
        "print(\"\\nGPU KNN Complete\")\n",
        "print(\"Distances shape:\", distances.shape)\n",
        "print(\"Indices shape:\", indices.shape)"
      ],
      "metadata": {
        "colab": {
          "base_uri": "https://localhost:8080/"
        },
        "id": "oa4E6hH-oKsG",
        "outputId": "015531f8-9b59-4a36-eeec-60bc86ac032a"
      },
      "execution_count": 16,
      "outputs": [
        {
          "output_type": "stream",
          "name": "stdout",
          "text": [
            "Starting GPU KNN build for K=10\n",
            "\n",
            "Fitting model with sparse input...\n",
            "\n",
            "GPU fit time: 0.0025 seconds\n",
            "GPU query time: 0.0377 seconds\n",
            "\n",
            "GPU KNN Complete\n",
            "Distances shape: (9742, 11)\n",
            "Indices shape: (9742, 11)\n"
          ]
        }
      ]
    },
    {
      "cell_type": "markdown",
      "source": [
        "## TEST MODEL"
      ],
      "metadata": {
        "id": "m3W9t2r4zpnc"
      }
    },
    {
      "cell_type": "code",
      "source": [
        "indices_cpu = indices.get()\n",
        "distances_cpu = distances.get()\n",
        "\n",
        "index_to_movieid_map = dict(enumerate(genres_cpu.index))\n",
        "title_map = movies_cpu.set_index('movieId')['title'].to_dict()\n",
        "\n",
        "knn_map_with_names = {}\n",
        "for row_index, neighbor_indices in enumerate(indices_cpu):\n",
        "    source_movie_id = index_to_movieid_map[row_index]\n",
        "    source_movie_title = title_map.get(source_movie_id, f\"ID:{source_movie_id}\")\n",
        "    neighbor_movie_ids = [index_to_movieid_map[n] for n in neighbor_indices[1:]]\n",
        "    neighbor_scores = [float(1.0 - d) for d in distances_cpu[row_index][1:]]\n",
        "    neighbor_titles = [title_map.get(mid, f\"ID:{mid}\") for mid in neighbor_movie_ids]\n",
        "    knn_map_with_names[source_movie_title] = list(zip((neighbor_scores), neighbor_titles))\n",
        "\n",
        "print(\"Testing results\")\n",
        "toy_story_key = title_map[1]\n",
        "print(f\"Top 5 neighbors for {toy_story_key}:\")\n",
        "for i in range(6):\n",
        "  print(knn_map_with_names[toy_story_key][i])"
      ],
      "metadata": {
        "colab": {
          "base_uri": "https://localhost:8080/"
        },
        "id": "eI1jjfM1svAg",
        "outputId": "04634807-c01e-47ec-867a-e5fde7133a0b"
      },
      "execution_count": 24,
      "outputs": [
        {
          "output_type": "stream",
          "name": "stdout",
          "text": [
            "Testing results\n",
            "Top 5 neighbors for Toy Story (1995):\n",
            "(1.0, 'Asterix and the Vikings (Astérix et les Vikings) (2006)')\n",
            "(1.0, 'Wild, The (2006)')\n",
            "(1.0, 'Toy Story 2 (1999)')\n",
            "(1.0, 'Adventures of Rocky and Bullwinkle, The (2000)')\n",
            "(1.0, 'Tale of Despereaux, The (2008)')\n",
            "(1.0, 'Moana (2016)')\n"
          ]
        }
      ]
    },
    {
      "cell_type": "markdown",
      "source": [
        "## VISUALIZATION"
      ],
      "metadata": {
        "id": "mpRaJRhCzlhN"
      }
    },
    {
      "cell_type": "code",
      "source": [
        "movie_title = 'Toy Story (1995)'\n",
        "\n",
        "data = knn_map_with_names.get(movie_title, [])\n",
        "\n",
        "neighbors_df = pd.DataFrame(data, columns=['similarity', 'title']).head(15)\n",
        "\n",
        "plt.figure(figsize=(10, 8))\n",
        "sns.barplot(\n",
        "  x='similarity',\n",
        "  y='title',\n",
        "  data=neighbors_df,\n",
        "  palette='viridis',\n",
        "  hue='title',\n",
        "  legend=False,\n",
        ")\n",
        "\n",
        "plt.title(f\"Top 10 Neighbors for: {movie_title}\", fontsize=16)\n",
        "plt.xlabel(\"Jaccard Similarity\", fontsize=12)\n",
        "plt.ylabel(\"Movie Title\", fontsize=12)\n",
        "plt.show()"
      ],
      "metadata": {
        "colab": {
          "base_uri": "https://localhost:8080/",
          "height": 600
        },
        "id": "qtz453Mgyzeb",
        "outputId": "88cea220-9ee2-4487-8823-c545adbc8ec4"
      },
      "execution_count": 20,
      "outputs": [
        {
          "output_type": "display_data",
          "data": {
            "text/plain": [
              "<Figure size 1000x800 with 1 Axes>"
            ],
            "image/png": "[encoded data removed]"
          },
          "metadata": {}
        }
      ]
    }
  ]
}