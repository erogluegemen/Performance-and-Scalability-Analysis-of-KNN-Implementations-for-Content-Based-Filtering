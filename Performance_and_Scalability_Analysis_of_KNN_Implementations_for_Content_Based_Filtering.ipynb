{
  "nbformat": 4,
  "nbformat_minor": 0,
  "metadata": {
    "colab": {
      "provenance": [],
      "toc_visible": true,
      "gpuType": "T4"
    },
    "kernelspec": {
      "name": "python3",
      "display_name": "Python 3"
    },
    "language_info": {
      "name": "python"
    },
    "accelerator": "GPU"
  },
  "cells": [
    {
      "cell_type": "markdown",
      "source": [
        "# Benchmark: CPU (scikit-learn) vs. GPU (cuML)\n",
        "<hr>"
      ],
      "metadata": {
        "id": "akHG-oTx9uqd"
      }
    },
    {
      "cell_type": "markdown",
      "source": [
        "## Experiment Summary\n",
        "\n",
        "This notebook compares the performance of CPU vs. GPU for a large-scale K-Nearest Neighbors task.\n",
        "\n",
        "| Parameter | Detail |\n",
        "| :--- | :--- |\n",
        "| **Task** | Benchmark K-Nearest Neighbors (KNN) |\n",
        "| **Datasets** | <ul><li>**MovieLens Small** (~ 9.7k items)</li><li>**MovieLens Latest** (~ 87k items)</li></ul> |\n",
        "| **Similarity Metric** | Jaccard Similarity |\n",
        "| **Algorithm** | `brute-force` (exhaustive $O(N^2)$ comparison) |\n",
        "| **CPU Library** | `scikit-learn` |\n",
        "| **GPU Library** | `RAPIDS cuML` |\n",
        "| **GPU Hardware** | NVIDIA T4 (via Google Colab) |"
      ],
      "metadata": {
        "id": "yIxCBQYVFeVq"
      }
    },
    {
      "cell_type": "markdown",
      "source": [
        "## The Math: $O(N^2)$ Comparison\n",
        "\n",
        "Both libraries will use a **\"brute-force\"** algorithm to find the neighbors. This means that for a dataset with $N$ movies, they must compute the similarity for every single pair of movies. This is an $O(N^2)$ operation.\n",
        "\n",
        "### Total Comparisons\n",
        "We are running this benchmark on two datasets of different sizes, so we can see how the performance scales:\n",
        "\n",
        "1.  **MovieLens Small ($N \\approx 9,700$):**\n",
        "    Total Comparisons $\\approx \\frac{N^2}{2} \\approx \\frac{9,700^2}{2} \\approx$ **47 Million Comparisons!**\n",
        "\n",
        "2.  **MovieLens Latest ($N \\approx 87,000$):**\n",
        "    Total Comparisons $\\approx \\frac{N^2}{2} \\approx \\frac{87,000^2}{2} \\approx$ **7.6 Billion Comparisons!**\n",
        "\n",
        "### The Metric: Jaccard Similarity\n",
        "The similarity metric we're using is **Jaccard Similarity**, which calculates the ratio of shared genres to the total unique genres between two movies:\n",
        "\n",
        "$$ J(A, B) = \\frac{|A \\cap B|}{|A \\cup B|} $$\n",
        "\n",
        "Where $A$ and $B$ are the sets of genres for two movies.\n",
        "\n",
        "### CPU vs. GPU\n",
        "* **scikit-learn (CPU):** Will perform these millions (or billions) of calculations sequentially across all available CPU cores.\n",
        "* **cuML (GPU):** Will perform all these calculations *at the same time* (in massive parallel) on the thousands of cores available on the NVIDIA GPU.\n",
        "\n",
        "This is the source of the speed difference. We'll be able to observe how this difference *scales* as the problem explodes from 47 million to 7.6 billion computations."
      ],
      "metadata": {
        "id": "LpWJ5RkTE-QT"
      }
    },
    {
      "cell_type": "markdown",
      "source": [
        "## K-Nearest Neighbors on MovieLens (Small vs. Large)\n",
        "\n",
        "This notebook performs a speed benchmark for the K-Nearest Neighbors (KNN) algorithm on two different sizes of the MovieLens dataset:\n",
        "1.  **MovieLens Small:** ~9,700 movies.\n",
        "2.  **MovieLens Latest (32M):** ~87,000 movies.\n",
        "\n",
        "We will compare two industry-standard libraries:\n",
        "* **Scikit-learn (CPU):** The most popular Python library for classical machine learning, running on the CPU.\n",
        "* **RAPIDS cuML (GPU):** A GPU-accelerated library from NVIDIA that mimics the scikit-learn API.\n",
        "\n",
        "**Goal:** To quantify and visualize how the GPU speedup *scales* as the dataset size increases."
      ],
      "metadata": {
        "id": "3PgtM3G49iZ3"
      }
    },
    {
      "cell_type": "code",
      "source": [
        "!nvidia-smi"
      ],
      "metadata": {
        "colab": {
          "base_uri": "https://localhost:8080/"
        },
        "id": "XrpOjWIMEo8P",
        "outputId": "66b72f5c-bfa4-4dd0-b7df-61e6212ba3dd"
      },
      "execution_count": 1,
      "outputs": [
        {
          "output_type": "stream",
          "name": "stdout",
          "text": [
            "Fri Oct 24 12:02:48 2025       \n",
            "+-----------------------------------------------------------------------------------------+\n",
            "| NVIDIA-SMI 550.54.15              Driver Version: 550.54.15      CUDA Version: 12.4     |\n",
            "|-----------------------------------------+------------------------+----------------------+\n",
            "| GPU  Name                 Persistence-M | Bus-Id          Disp.A | Volatile Uncorr. ECC |\n",
            "| Fan  Temp   Perf          Pwr:Usage/Cap |           Memory-Usage | GPU-Util  Compute M. |\n",
            "|                                         |                        |               MIG M. |\n",
            "|=========================================+========================+======================|\n",
            "|   0  Tesla T4                       Off |   00000000:00:04.0 Off |                    0 |\n",
            "| N/A   59C    P8             10W /   70W |       0MiB /  15360MiB |      0%      Default |\n",
            "|                                         |                        |                  N/A |\n",
            "+-----------------------------------------+------------------------+----------------------+\n",
            "                                                                                         \n",
            "+-----------------------------------------------------------------------------------------+\n",
            "| Processes:                                                                              |\n",
            "|  GPU   GI   CI        PID   Type   Process name                              GPU Memory |\n",
            "|        ID   ID                                                               Usage      |\n",
            "|=========================================================================================|\n",
            "|  No running processes found                                                             |\n",
            "+-----------------------------------------------------------------------------------------+\n"
          ]
        }
      ]
    },
    {
      "cell_type": "code",
      "source": [
        "!git clone https://github.com/rapidsai/rapidsai-csp-utils.git\n",
        "!python rapidsai-csp-utils/colab/env-check.py\n",
        "!bash rapidsai-csp-utils/colab/install.sh\n",
        "\n",
        "import sys\n",
        "sys.path.append('/usr/local/lib/python3.10/site-packages/')"
      ],
      "metadata": {
        "colab": {
          "base_uri": "https://localhost:8080/"
        },
        "id": "wJ-OM3Q69lF-",
        "outputId": "c33fe4f8-565d-43ff-ed2f-1d05575e5a64"
      },
      "execution_count": 2,
      "outputs": [
        {
          "output_type": "stream",
          "name": "stdout",
          "text": [
            "fatal: destination path 'rapidsai-csp-utils' already exists and is not an empty directory.\n",
            "***********************************************************************\n",
            "Woo! Your instance has the right kind of GPU, a Tesla T4!\n",
            "We will now install RAPIDS via pip!  Please stand by, should be quick...\n",
            "***********************************************************************\n",
            "\n",
            "bash: rapidsai-csp-utils/colab/install.sh: No such file or directory\n"
          ]
        }
      ]
    },
    {
      "cell_type": "code",
      "source": [
        "import time\n",
        "import pandas as pd\n",
        "import matplotlib.pyplot as plt\n",
        "import seaborn as sns\n",
        "from joblib import parallel_backend\n",
        "\n",
        "# CPU Libraries\n",
        "import scipy.sparse\n",
        "from sklearn.neighbors import NearestNeighbors as skNearestNeighbors\n",
        "\n",
        "# GPU Libraries\n",
        "import cudf\n",
        "import cupy as cp\n",
        "import cupyx.scipy.sparse as cupy_sparse\n",
        "from cuml.neighbors import NearestNeighbors as cuNearestNeighbors\n",
        "\n",
        "print(\"All libraries imported successfully.\")"
      ],
      "metadata": {
        "colab": {
          "base_uri": "https://localhost:8080/"
        },
        "id": "jl-Jc84M946R",
        "outputId": "2fb28b11-dda0-4ac6-cfe0-91d3556f8ef2"
      },
      "execution_count": 3,
      "outputs": [
        {
          "output_type": "stream",
          "name": "stdout",
          "text": [
            "All libraries imported successfully.\n"
          ]
        }
      ]
    },
    {
      "cell_type": "code",
      "source": [
        "# You may want to load and read the data from Google Drive since its a big dataset!\n",
        "\n",
        "# Download the \"Latest\" (32M) dataset\n",
        "#!wget https://files.grouplens.org/datasets/movielens/ml-latest.zip -O ml-latest.zip\n",
        "#!unzip -o ml-latest.zip -d ml-latest-data\n",
        "\n",
        "# Download the \"Small\" dataset\n",
        "#!wget https://files.grouplens.org/datasets/movielens/ml-latest-small.zip -O ml-latest-small.zip\n",
        "#!unzip -o ml-latest-small.zip -d ml-latest-small-data\n",
        "\n",
        "print(\"MovieLens Latest and Small datasets downloaded and unzipped.\")"
      ],
      "metadata": {
        "colab": {
          "base_uri": "https://localhost:8080/"
        },
        "id": "fwO7OBvn9-k7",
        "outputId": "339abf50-2ddd-47ba-d8fa-44ba2503fe2d"
      },
      "execution_count": 4,
      "outputs": [
        {
          "output_type": "stream",
          "name": "stdout",
          "text": [
            "MovieLens Latest and Small datasets downloaded and unzipped.\n"
          ]
        }
      ]
    },
    {
      "cell_type": "markdown",
      "source": [
        "## Step 1: Benchmark Functions\n",
        "\n",
        "To keep notebook clean, we'll define functions for each step of the benchmark.\n",
        "1.  **`prepare_data`**: Loads a `movies.csv` file and creates the binary genre matrix.\n",
        "2.  **`run_cpu_benchmark`**: Runs the `scikit-learn` KNN benchmark.\n",
        "3.  **`run_gpu_benchmark`**: Runs the `cuML` KNN benchmark."
      ],
      "metadata": {
        "id": "SOxP5MU8-KA9"
      }
    },
    {
      "cell_type": "code",
      "source": [
        "def prepare_data(movies_csv_path):\n",
        "    \"\"\"Loads a movies.csv file and returns the dense and sparse CPU genre matrices.\"\"\"\n",
        "    print(f\"Loading data from: {movies_csv_path}\")\n",
        "    movies_cpu = pd.read_csv(movies_csv_path)\n",
        "\n",
        "    print(\"Creating binary genre matrix...\")\n",
        "    genres_cpu_dense = movies_cpu['genres'].str.get_dummies(sep='|')\n",
        "\n",
        "    print(\"Creating sparse CPU matrix...\")\n",
        "    genres_cpu_sparse = scipy.sparse.csr_matrix(genres_cpu_dense.values, dtype='bool')\n",
        "\n",
        "    print(f\"Data shape: {genres_cpu_dense.shape}\")\n",
        "    return genres_cpu_dense, genres_cpu_sparse"
      ],
      "metadata": {
        "id": "noh9jqPd-IvK"
      },
      "execution_count": 5,
      "outputs": []
    },
    {
      "cell_type": "code",
      "source": [
        "def run_cpu_benchmark(genres_cpu_dense, K):\n",
        "    \"\"\"Runs the scikit-learn KNN benchmark on a DENSE boolean array.\"\"\"\n",
        "\n",
        "    print(f\"--- Running CPU (sklearn) Benchmark ---\")\n",
        "\n",
        "    # scikit-learn's 'jaccard' requires a dense, boolean array\n",
        "    cpu_input_data = genres_cpu_dense.values.astype('bool')\n",
        "\n",
        "    print(f\"Running CPU KNN for K={K} on {cpu_input_data.shape[0]} movies...\")\n",
        "    print(\"This may take several minutes for the large dataset...\")\n",
        "\n",
        "    start_cpu = time.time()\n",
        "\n",
        "    with parallel_backend('loky'):\n",
        "        knn_model_cpu = skNearestNeighbors(\n",
        "            n_neighbors=K+1,\n",
        "            metric='jaccard',\n",
        "            algorithm='brute',\n",
        "            n_jobs=-1\n",
        "        )\n",
        "\n",
        "        knn_model_cpu.fit(cpu_input_data)\n",
        "\n",
        "        distances_cpu, indices_cpu = knn_model_cpu.kneighbors(cpu_input_data)\n",
        "\n",
        "    end_cpu = time.time()\n",
        "    cpu_time = end_cpu - start_cpu\n",
        "\n",
        "    print(f\"CPU (sklearn) Total Time: {cpu_time:.4f} seconds\\n\")\n",
        "    return cpu_time"
      ],
      "metadata": {
        "id": "BEjr_V6x-RsE"
      },
      "execution_count": 6,
      "outputs": []
    },
    {
      "cell_type": "code",
      "source": [
        "def run_gpu_benchmark(genres_cpu_sparse, K):\n",
        "    \"\"\"Runs the cuML KNN benchmark on a SPARSE boolean array.\"\"\"\n",
        "\n",
        "    print(f\"--- Running GPU (cuML) Benchmark ---\")\n",
        "\n",
        "    print(\"Transferring sparse matrix to GPU...\")\n",
        "    G_gpu_sparse = cupy_sparse.csr_matrix(genres_cpu_sparse)\n",
        "\n",
        "    print(f\"Running GPU KNN for K={K} on {G_gpu_sparse.shape[0]} movies...\")\n",
        "\n",
        "    start_gpu = time.time()\n",
        "\n",
        "    knn_model_gpu = cuNearestNeighbors(\n",
        "        n_neighbors=K+1,\n",
        "        metric='jaccard',\n",
        "        algorithm='brute'\n",
        "    )\n",
        "\n",
        "    knn_model_gpu.fit(G_gpu_sparse)\n",
        "\n",
        "    distances_gpu, indices_gpu = knn_model_gpu.kneighbors(G_gpu_sparse)\n",
        "\n",
        "    end_gpu = time.time()\n",
        "    gpu_time = end_gpu - start_gpu\n",
        "\n",
        "    print(f\"GPU (cuML) Total Compute Time: {gpu_time:.4f} seconds\\n\")\n",
        "    return gpu_time"
      ],
      "metadata": {
        "id": "ce7cU8BA-hCK"
      },
      "execution_count": 7,
      "outputs": []
    },
    {
      "cell_type": "markdown",
      "source": [
        "## Step 2: Running the Benchmarks\n",
        "\n",
        "Now we'll execute our functions for both datasets and store the results."
      ],
      "metadata": {
        "id": "rd7CB0OM-w70"
      }
    },
    {
      "cell_type": "code",
      "source": [
        "K = 10  # Number of neighbors to find\n",
        "benchmark_results = []\n",
        "\n",
        "# Benchmark 1: MovieLens Small\n",
        "print(\"--- STARTING: MovieLens Small Dataset ---\")\n",
        "small_dense, small_sparse = prepare_data('/content/drive/MyDrive/Recommendation_Systems/datasets/small-dataset/movies.csv')\n",
        "n_small = small_dense.shape[0]\n",
        "\n",
        "# Run CPU\n",
        "time_cpu_small = run_cpu_benchmark(small_dense, K)\n",
        "benchmark_results.append({\n",
        "    'Dataset': f\"Small ({n_small} movies)\",\n",
        "    'Library': 'scikit-learn (CPU)',\n",
        "    'Time (s)': time_cpu_small\n",
        "})\n",
        "\n",
        "# Run GPU\n",
        "time_gpu_small = run_gpu_benchmark(small_sparse, K)\n",
        "benchmark_results.append({\n",
        "    'Dataset': f\"Small ({n_small} movies)\",\n",
        "    'Library': 'cuML (GPU)',\n",
        "    'Time (s)': time_gpu_small\n",
        "})\n",
        "\n",
        "\n",
        "# Benchmark 2: MovieLens Large Dataset\n",
        "print(\"\\n--- STARTING: MovieLens Large Dataset ---\")\n",
        "latest_dense, latest_sparse = prepare_data('/content/drive/MyDrive/Recommendation_Systems/datasets/large-dataset/movies.csv')\n",
        "n_latest = latest_dense.shape[0]\n",
        "\n",
        "# Run CPU\n",
        "time_cpu_latest = run_cpu_benchmark(latest_dense, K)\n",
        "benchmark_results.append({\n",
        "    'Dataset': f\"Latest ({n_latest} movies)\",\n",
        "    'Library': 'scikit-learn (CPU)',\n",
        "    'Time (s)': time_cpu_latest\n",
        "})\n",
        "\n",
        "# Run GPU\n",
        "time_gpu_latest = run_gpu_benchmark(latest_sparse, K)\n",
        "benchmark_results.append({\n",
        "    'Dataset': f\"Latest ({n_latest} movies)\",\n",
        "    'Library': 'cuML (GPU)',\n",
        "    'Time (s)': time_gpu_latest\n",
        "})\n",
        "\n",
        "print(\"\\n--- ALL BENCHMARKS COMPLETE ---\")"
      ],
      "metadata": {
        "colab": {
          "base_uri": "https://localhost:8080/"
        },
        "id": "1LDhOXjs-vTW",
        "outputId": "bde24c56-7862-429f-fc95-96292b0fd42a"
      },
      "execution_count": 8,
      "outputs": [
        {
          "output_type": "stream",
          "name": "stdout",
          "text": [
            "--- STARTING: MovieLens Small Dataset ---\n",
            "Loading data from: /content/drive/MyDrive/Recommendation_Systems/datasets/small-dataset/movies.csv\n",
            "Creating binary genre matrix...\n",
            "Creating sparse CPU matrix...\n",
            "Data shape: (9742, 20)\n",
            "--- Running CPU (sklearn) Benchmark ---\n",
            "Running CPU KNN for K=10 on 9742 movies...\n",
            "This may take several minutes for the large dataset...\n",
            "CPU (sklearn) Total Time: 9.5276 seconds\n",
            "\n",
            "--- Running GPU (cuML) Benchmark ---\n",
            "Transferring sparse matrix to GPU...\n",
            "Running GPU KNN for K=10 on 9742 movies...\n",
            "GPU (cuML) Total Compute Time: 0.1042 seconds\n",
            "\n",
            "\n",
            "--- STARTING: MovieLens Large Dataset ---\n",
            "Loading data from: /content/drive/MyDrive/Recommendation_Systems/datasets/large-dataset/movies.csv\n",
            "Creating binary genre matrix...\n",
            "Creating sparse CPU matrix...\n",
            "Data shape: (87585, 20)\n",
            "--- Running CPU (sklearn) Benchmark ---\n",
            "Running CPU KNN for K=10 on 87585 movies...\n",
            "This may take several minutes for the large dataset...\n",
            "CPU (sklearn) Total Time: 438.3812 seconds\n",
            "\n",
            "--- Running GPU (cuML) Benchmark ---\n",
            "Transferring sparse matrix to GPU...\n",
            "Running GPU KNN for K=10 on 87585 movies...\n",
            "GPU (cuML) Total Compute Time: 1.9462 seconds\n",
            "\n",
            "\n",
            "--- ALL BENCHMARKS COMPLETE ---\n"
          ]
        }
      ]
    },
    {
      "cell_type": "markdown",
      "source": [
        "## Step 3: Results & Visualization\n",
        "\n",
        "Now we'll print a summary of the results and plot them on a bar chart to visualize the massive difference in performance and scalability."
      ],
      "metadata": {
        "id": "ghWdpfkQ_LUC"
      }
    },
    {
      "cell_type": "code",
      "source": [
        "bench_df = pd.DataFrame(benchmark_results)\n",
        "\n",
        "print(\"--- Benchmark Results ---\")\n",
        "print(bench_df.to_markdown(index=False, floatfmt=\".4f\"))\n",
        "\n",
        "speedup_small = time_cpu_small / time_gpu_small\n",
        "speedup_latest = time_cpu_latest / time_gpu_latest\n",
        "\n",
        "print(f\"\\nSpeedup on Small Dataset: {speedup_small:.1f}x faster\")\n",
        "print(f\"Speedup on Latest Dataset: {speedup_latest:.1f}x faster\")\n",
        "\n",
        "print(\"\\nPlotting results...\")\n",
        "plt.figure(figsize=(12, 10))\n",
        "barplot = sns.barplot(\n",
        "    data=bench_df,\n",
        "    x='Dataset',\n",
        "    y='Time (s)',\n",
        "    hue='Library',\n",
        "    palette=['#3498db', '#2ecc71'] # Blue for CPU, Green for GPU\n",
        ")\n",
        "\n",
        "plt.yscale('log')\n",
        "plt.ylim(0.001, time_cpu_latest * 1.5)\n",
        "\n",
        "for p in barplot.patches:\n",
        "    height = p.get_height()\n",
        "    if height > 0:\n",
        "        barplot.annotate(\n",
        "            f\"{height:.2f} s\",\n",
        "            (p.get_x() + p.get_width() / 2., height),\n",
        "            ha='center',\n",
        "            va='bottom',\n",
        "            xytext=(0, 5),\n",
        "            textcoords='offset points',\n",
        "            fontsize=10\n",
        "        )\n",
        "\n",
        "plt.title(\"CPU (sklearn) vs. GPU (cuML) KNN Benchmark (Log Scale)\", fontsize=16)\n",
        "plt.ylabel(\"Total Time (seconds) [Log Scale]\", fontsize=12)\n",
        "plt.xlabel(\"Dataset\", fontsize=12)\n",
        "plt.legend(title='Library', title_fontsize='13', fontsize='11')\n",
        "plt.show()"
      ],
      "metadata": {
        "colab": {
          "base_uri": "https://localhost:8080/",
          "height": 1000
        },
        "id": "ANx21IL2_OiB",
        "outputId": "6cd6dff5-d86f-4108-9053-aca56b410eac"
      },
      "execution_count": 9,
      "outputs": [
        {
          "output_type": "stream",
          "name": "stdout",
          "text": [
            "--- Benchmark Results ---\n",
            "| Dataset               | Library            |   Time (s) |\n",
            "|:----------------------|:-------------------|-----------:|\n",
            "| Small (9742 movies)   | scikit-learn (CPU) |     9.5276 |\n",
            "| Small (9742 movies)   | cuML (GPU)         |     0.1042 |\n",
            "| Latest (87585 movies) | scikit-learn (CPU) |   438.3812 |\n",
            "| Latest (87585 movies) | cuML (GPU)         |     1.9462 |\n",
            "\n",
            "Speedup on Small Dataset: 91.4x faster\n",
            "Speedup on Latest Dataset: 225.2x faster\n",
            "\n",
            "Plotting results...\n"
          ]
        },
        {
          "output_type": "display_data",
          "data": {
            "text/plain": [
              "<Figure size 1200x1000 with 1 Axes>"
            ],
            "image/png": "[encoded data removed]"
          },
          "metadata": {}
        }
      ]
    },
    {
      "cell_type": "markdown",
      "source": [
        "## Conclusion\n",
        "\n",
        "As the benchmark clearly shows, the GPU-accelerated `cuML` library is dramatically faster on both datasets.\n",
        "\n",
        "* On the \"Small\" dataset (9,742 movies), the GPU was **33.5x** faster.\n",
        "* On the \"Large\" dataset (87,585 movies), the GPU was **227.8x** faster.\n",
        "\n",
        "This demonstrates two key points:\n",
        "1.  **Massive Parallelism:** The GPU performed 7.6 billion comparisons in **1.94 seconds**, while the multi-core CPU took **442 seconds** (over 7 minutes) to do the same task.\n",
        "2.  **Scalability:** The speedup *increased dramatically* with the dataset size (from 33x to 228x). This shows that as the problem gets harder, the GPU's advantage becomes even more significant. For modern, large-scale data, GPU acceleration is a game-changing technology."
      ],
      "metadata": {
        "id": "pb2ZMPn7_ZbZ"
      }
    }
  ]
}