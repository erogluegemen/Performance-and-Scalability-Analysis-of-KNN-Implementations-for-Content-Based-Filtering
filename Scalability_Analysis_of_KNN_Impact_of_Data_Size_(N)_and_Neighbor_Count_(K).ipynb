{
  "nbformat": 4,
  "nbformat_minor": 0,
  "metadata": {
    "colab": {
      "provenance": [],
      "gpuType": "T4",
      "machine_shape": "hm"
    },
    "kernelspec": {
      "name": "python3",
      "display_name": "Python 3"
    },
    "language_info": {
      "name": "python"
    },
    "accelerator": "GPU"
  },
  "cells": [
    {
      "cell_type": "markdown",
      "source": [
        "# Benchmark: CPU (scikit-learn) vs. GPU (cuML)\n",
        "\n",
        "<hr>"
      ],
      "metadata": {
        "id": "akHG-oTx9uqd"
      }
    },
    {
      "cell_type": "markdown",
      "source": [
        "## Experiment Summary\n",
        "\n",
        "This notebook compares the performance of CPU vs. GPU for a large-scale K-Nearest Neighbors task.\n",
        "\n",
        "| Parameter | Detail |\n",
        "| :--- | :--- |\n",
        "| **Task** | Benchmark K-Nearest Neighbors (KNN) |\n",
        "| **Datasets** | <ul><li>**MovieLens Small** (~ 9.7k items)</li><li>**MovieLens Latest** (~ 87k items)</li></ul> |\n",
        "| **Similarity Metric** | Jaccard Similarity |\n",
        "| **Algorithm** | `brute-force` (exhaustive $O(N^2)$ comparison) |\n",
        "| **CPU Library** | `scikit-learn` |\n",
        "| **GPU Library** | `RAPIDS cuML` |\n",
        "| **GPU Hardware** | NVIDIA T4 (via Google Colab) |"
      ],
      "metadata": {
        "id": "yIxCBQYVFeVq"
      }
    },
    {
      "cell_type": "markdown",
      "source": [
        "## The Math: $O(N^2)$ Comparison\n",
        "\n",
        "Both libraries will use a **\"brute-force\"** algorithm to find the neighbors. This means that for a dataset with $N$ movies, they must compute the similarity for every single pair of movies. This is an $O(N^2)$ operation.\n",
        "\n",
        "### Total Comparisons\n",
        "We are running this benchmark on two datasets of different sizes, so we can see how the performance scales:\n",
        "\n",
        "1.  **MovieLens Small ($N \\approx 9,700$):**\n",
        "    Total Comparisons $\\approx \\frac{N^2}{2} \\approx \\frac{9,700^2}{2} \\approx$ **47 Million Comparisons!**\n",
        "\n",
        "2.  **MovieLens Latest ($N \\approx 87,000$):**\n",
        "    Total Comparisons $\\approx \\frac{N^2}{2} \\approx \\frac{87,000^2}{2} \\approx$ **7.6 Billion Comparisons!**\n",
        "\n",
        "### The Metric: Jaccard Similarity\n",
        "The similarity metric we're using is **Jaccard Similarity**, which calculates the ratio of shared genres to the total unique genres between two movies:\n",
        "\n",
        "$$ J(A, B) = \\frac{|A \\cap B|}{|A \\cup B|} $$\n",
        "\n",
        "Where $A$ and $B$ are the sets of genres for two movies.\n",
        "\n",
        "### CPU vs. GPU\n",
        "* **scikit-learn (CPU):** Will perform these millions (or billions) of calculations sequentially across all available CPU cores.\n",
        "* **cuML (GPU):** Will perform all these calculations *at the same time* (in massive parallel) on the thousands of cores available on the NVIDIA GPU.\n",
        "\n",
        "This is the source of the speed difference. We'll be able to observe how this difference *scales* as the problem explodes from 47 million to 7.6 billion computations."
      ],
      "metadata": {
        "id": "LpWJ5RkTE-QT"
      }
    },
    {
      "cell_type": "markdown",
      "source": [
        "## K-Nearest Neighbors on MovieLens (Small vs. Large)\n",
        "\n",
        "This notebook performs a speed benchmark for the K-Nearest Neighbors (KNN) algorithm on two different sizes of the MovieLens dataset:\n",
        "1.  **MovieLens Small:** ~9,700 movies.\n",
        "2.  **MovieLens Latest (32M):** ~87,000 movies.\n",
        "\n",
        "We will compare two industry-standard libraries:\n",
        "* **Scikit-learn (CPU):** The most popular Python library for classical machine learning, running on the CPU.\n",
        "* **RAPIDS cuML (GPU):** A GPU-accelerated library from NVIDIA that mimics the scikit-learn API.\n",
        "\n",
        "**Goal:** To quantify and visualize how the GPU speedup *scales* as the dataset size increases."
      ],
      "metadata": {
        "id": "3PgtM3G49iZ3"
      }
    },
    {
      "cell_type": "code",
      "source": [
        "!nvidia-smi"
      ],
      "metadata": {
        "colab": {
          "base_uri": "https://localhost:8080/"
        },
        "id": "XrpOjWIMEo8P",
        "outputId": "4e714751-0cdd-4814-9295-e8d30a3d49cf"
      },
      "execution_count": 33,
      "outputs": [
        {
          "output_type": "stream",
          "name": "stdout",
          "text": [
            "Fri Oct 24 14:40:16 2025       \n",
            "+-----------------------------------------------------------------------------------------+\n",
            "| NVIDIA-SMI 550.54.15              Driver Version: 550.54.15      CUDA Version: 12.4     |\n",
            "|-----------------------------------------+------------------------+----------------------+\n",
            "| GPU  Name                 Persistence-M | Bus-Id          Disp.A | Volatile Uncorr. ECC |\n",
            "| Fan  Temp   Perf          Pwr:Usage/Cap |           Memory-Usage | GPU-Util  Compute M. |\n",
            "|                                         |                        |               MIG M. |\n",
            "|=========================================+========================+======================|\n",
            "|   0  Tesla T4                       Off |   00000000:00:04.0 Off |                    0 |\n",
            "| N/A   72C    P0             32W /   70W |     104MiB /  15360MiB |      0%      Default |\n",
            "|                                         |                        |                  N/A |\n",
            "+-----------------------------------------+------------------------+----------------------+\n",
            "                                                                                         \n",
            "+-----------------------------------------------------------------------------------------+\n",
            "| Processes:                                                                              |\n",
            "|  GPU   GI   CI        PID   Type   Process name                              GPU Memory |\n",
            "|        ID   ID                                                               Usage      |\n",
            "|=========================================================================================|\n",
            "+-----------------------------------------------------------------------------------------+\n"
          ]
        }
      ]
    },
    {
      "cell_type": "code",
      "source": [
        "!git clone https://github.com/rapidsai/rapidsai-csp-utils.git\n",
        "!python rapidsai-csp-utils/colab/env-check.py\n",
        "!bash rapidsai-csp-utils/colab/install.sh\n",
        "\n",
        "import sys\n",
        "sys.path.append('/usr/local/lib/python3.10/site-packages/')"
      ],
      "metadata": {
        "colab": {
          "base_uri": "https://localhost:8080/"
        },
        "id": "wJ-OM3Q69lF-",
        "outputId": "e49e9185-53b6-455e-f0e9-62086ac3c2aa"
      },
      "execution_count": 34,
      "outputs": [
        {
          "output_type": "stream",
          "name": "stdout",
          "text": [
            "fatal: destination path 'rapidsai-csp-utils' already exists and is not an empty directory.\n",
            "***********************************************************************\n",
            "Woo! Your instance has the right kind of GPU, a Tesla T4!\n",
            "We will now install RAPIDS via pip!  Please stand by, should be quick...\n",
            "***********************************************************************\n",
            "\n",
            "bash: rapidsai-csp-utils/colab/install.sh: No such file or directory\n"
          ]
        }
      ]
    },
    {
      "cell_type": "code",
      "source": [
        "import time\n",
        "import pandas as pd\n",
        "import matplotlib.pyplot as plt\n",
        "import seaborn as sns\n",
        "from joblib import parallel_backend\n",
        "\n",
        "# CPU Libraries\n",
        "import scipy.sparse\n",
        "from sklearn.neighbors import NearestNeighbors as skNearestNeighbors\n",
        "\n",
        "# GPU Libraries\n",
        "import cudf\n",
        "import cupy as cp\n",
        "import cupyx.scipy.sparse as cupy_sparse\n",
        "from cuml.neighbors import NearestNeighbors as cuNearestNeighbors\n",
        "\n",
        "print(\"All libraries imported successfully.\")"
      ],
      "metadata": {
        "colab": {
          "base_uri": "https://localhost:8080/"
        },
        "id": "jl-Jc84M946R",
        "outputId": "7b468990-afe2-48bb-b53b-b19cc122805b"
      },
      "execution_count": 35,
      "outputs": [
        {
          "output_type": "stream",
          "name": "stdout",
          "text": [
            "All libraries imported successfully.\n"
          ]
        }
      ]
    },
    {
      "cell_type": "code",
      "source": [
        "# You may want to load and read the data from Google Drive since its a big dataset!\n",
        "\n",
        "# Download the \"Latest\" (32M) dataset\n",
        "#!wget https://files.grouplens.org/datasets/movielens/ml-latest.zip -O ml-latest.zip\n",
        "#!unzip -o ml-latest.zip -d ml-latest-data\n",
        "\n",
        "# Download the \"Small\" dataset\n",
        "#!wget https://files.grouplens.org/datasets/movielens/ml-latest-small.zip -O ml-latest-small.zip\n",
        "#!unzip -o ml-latest-small.zip -d ml-latest-small-data\n",
        "\n",
        "print(\"MovieLens Latest and Small datasets downloaded and unzipped.\")"
      ],
      "metadata": {
        "colab": {
          "base_uri": "https://localhost:8080/"
        },
        "id": "fwO7OBvn9-k7",
        "outputId": "30454cdb-600f-4254-c2d1-3ecea97b3551"
      },
      "execution_count": 36,
      "outputs": [
        {
          "output_type": "stream",
          "name": "stdout",
          "text": [
            "MovieLens Latest and Small datasets downloaded and unzipped.\n"
          ]
        }
      ]
    },
    {
      "cell_type": "markdown",
      "source": [
        "## Step 1: Benchmark Functions\n",
        "\n",
        "To keep notebook clean, we'll define functions for each step of the benchmark.\n",
        "1.  **`prepare_data`**: Loads a `movies.csv` file and creates the binary genre matrix.\n",
        "2.  **`run_cpu_benchmark`**: Runs the `scikit-learn` KNN benchmark.\n",
        "3.  **`run_gpu_benchmark`**: Runs the `cuML` KNN benchmark."
      ],
      "metadata": {
        "id": "SOxP5MU8-KA9"
      }
    },
    {
      "cell_type": "code",
      "source": [
        "def prepare_data(movies_csv_path):\n",
        "    \"\"\"Loads a movies.csv file and returns the dense and sparse CPU genre matrices.\"\"\"\n",
        "    print(f\"Loading data from: {movies_csv_path}\")\n",
        "    movies_cpu = pd.read_csv(movies_csv_path)\n",
        "\n",
        "    print(\"Creating binary genre matrix...\")\n",
        "    genres_cpu_dense = movies_cpu['genres'].str.get_dummies(sep='|')\n",
        "\n",
        "    print(\"Creating sparse CPU matrix...\")\n",
        "    genres_cpu_sparse = scipy.sparse.csr_matrix(genres_cpu_dense.values, dtype='bool')\n",
        "\n",
        "    print(f\"Data shape: {genres_cpu_dense.shape}\")\n",
        "    return genres_cpu_dense, genres_cpu_sparse"
      ],
      "metadata": {
        "id": "noh9jqPd-IvK"
      },
      "execution_count": 37,
      "outputs": []
    },
    {
      "cell_type": "code",
      "source": [
        "def run_cpu_benchmark(genres_cpu_dense, K):\n",
        "    print(f\"--- Running CPU (sklearn) Benchmark ---\")\n",
        "\n",
        "    cpu_input_data = genres_cpu_dense.values.astype('bool')\n",
        "\n",
        "    print(f\"Running CPU KNN for K={K} on {cpu_input_data.shape[0]} movies...\")\n",
        "    print(\"(This will take a long time, especially on the large dataset.)\")\n",
        "\n",
        "    start_cpu = time.time()\n",
        "\n",
        "    knn_model_cpu = skNearestNeighbors(\n",
        "        n_neighbors=K+1,\n",
        "        metric='jaccard',\n",
        "        algorithm='brute',\n",
        "        n_jobs=-1\n",
        "    )\n",
        "\n",
        "    knn_model_cpu.fit(cpu_input_data)\n",
        "\n",
        "    distances_cpu, indices_cpu = knn_model_cpu.kneighbors(cpu_input_data)\n",
        "\n",
        "    end_cpu = time.time()\n",
        "    cpu_time = end_cpu - start_cpu\n",
        "\n",
        "    print(f\"CPU (sklearn) Total Time: {cpu_time:.4f} seconds\\n\")\n",
        "    return cpu_time"
      ],
      "metadata": {
        "id": "BEjr_V6x-RsE"
      },
      "execution_count": 38,
      "outputs": []
    },
    {
      "cell_type": "code",
      "source": [
        "def run_gpu_benchmark(genres_cpu_sparse, K):\n",
        "    \"\"\"Runs the cuML KNN benchmark on a SPARSE boolean array.\"\"\"\n",
        "\n",
        "    print(f\"--- Running GPU (cuML) Benchmark ---\")\n",
        "\n",
        "    print(\"Transferring sparse matrix to GPU...\")\n",
        "    G_gpu_sparse = cupy_sparse.csr_matrix(genres_cpu_sparse)\n",
        "\n",
        "    print(f\"Running GPU KNN for K={K} on {G_gpu_sparse.shape[0]} movies...\")\n",
        "\n",
        "    start_gpu = time.time()\n",
        "\n",
        "    knn_model_gpu = cuNearestNeighbors(\n",
        "        n_neighbors=K+1,\n",
        "        metric='jaccard',\n",
        "        algorithm='brute'\n",
        "    )\n",
        "\n",
        "    knn_model_gpu.fit(G_gpu_sparse)\n",
        "\n",
        "    distances_gpu, indices_gpu = knn_model_gpu.kneighbors(G_gpu_sparse)\n",
        "\n",
        "    end_gpu = time.time()\n",
        "    gpu_time = end_gpu - start_gpu\n",
        "\n",
        "    print(f\"GPU (cuML) Total Compute Time: {gpu_time:.4f} seconds\\n\")\n",
        "    return gpu_time"
      ],
      "metadata": {
        "id": "ce7cU8BA-hCK"
      },
      "execution_count": 39,
      "outputs": []
    },
    {
      "cell_type": "markdown",
      "source": [
        "## Step 2: Running the Benchmarks\n",
        "\n",
        "Now we'll execute our functions for both datasets and store the results."
      ],
      "metadata": {
        "id": "rd7CB0OM-w70"
      }
    },
    {
      "cell_type": "code",
      "source": [
        "K_values = [10, 50, 100]\n",
        "benchmark_results = []\n",
        "\n",
        "print(\"--- PREPARING DATASETS (runs once) ---\")\n",
        "small_dense, small_sparse = prepare_data('/content/drive/MyDrive/Recommendation_Systems/datasets/small-dataset/movies.csv')\n",
        "n_small = small_dense.shape[0]\n",
        "\n",
        "latest_dense, latest_sparse = prepare_data('/content/drive/MyDrive/Recommendation_Systems/datasets/large-dataset/movies.csv')\n",
        "n_latest = latest_dense.shape[0]\n",
        "\n",
        "for k in K_values:\n",
        "    print(f\"\\n--- STARTING BENCHMARK FOR K = {k} ---\")\n",
        "\n",
        "    # Benchmark 1: MovieLens Small\n",
        "    print(f\"\\n--- Running: MovieLens Small (K={k}) ---\")\n",
        "\n",
        "    # Run CPU\n",
        "    time_cpu_small = run_cpu_benchmark(small_dense, k)\n",
        "    benchmark_results.append({\n",
        "        'Dataset': f\"Small ({n_small} movies)\",\n",
        "        'Library': 'scikit-learn (CPU)',\n",
        "        'Time (s)': time_cpu_small,\n",
        "        'K': k\n",
        "    })\n",
        "\n",
        "    # Run GPU\n",
        "    time_gpu_small = run_gpu_benchmark(small_sparse, k)\n",
        "    benchmark_results.append({\n",
        "        'Dataset': f\"Small ({n_small} movies)\",\n",
        "        'Library': 'cuML (GPU)',\n",
        "        'Time (s)': time_gpu_small,\n",
        "        'K': k\n",
        "    })\n",
        "\n",
        "    # Benchmark 2: MovieLens Latest\n",
        "    print(f\"\\n--- Running: MovieLens Latest (K={k}) ---\")\n",
        "\n",
        "    time_cpu_latest = run_cpu_benchmark(latest_dense, k)\n",
        "    benchmark_results.append({\n",
        "        'Dataset': f\"Latest ({n_latest} movies)\",\n",
        "        'Library': 'scikit-learn (CPU)',\n",
        "        'Time (s)': time_cpu_latest,\n",
        "        'K': k\n",
        "    })\n",
        "\n",
        "    time_gpu_latest = run_gpu_benchmark(latest_sparse, k)\n",
        "    benchmark_results.append({\n",
        "        'Dataset': f\"Latest ({n_latest} movies)\",\n",
        "        'Library': 'cuML (GPU)',\n",
        "        'Time (s)': time_gpu_latest,\n",
        "        'K': k\n",
        "    })\n",
        "\n",
        "print(\"\\n--- ALL K-VALUE BENCHMARKS COMPLETE ---\")"
      ],
      "metadata": {
        "colab": {
          "base_uri": "https://localhost:8080/"
        },
        "id": "1LDhOXjs-vTW",
        "outputId": "612c89f0-f403-4501-bb47-486839a2c9b9"
      },
      "execution_count": 40,
      "outputs": [
        {
          "output_type": "stream",
          "name": "stdout",
          "text": [
            "--- PREPARING DATASETS (runs once) ---\n",
            "Loading data from: /content/drive/MyDrive/Recommendation_Systems/datasets/small-dataset/movies.csv\n",
            "Creating binary genre matrix...\n",
            "Creating sparse CPU matrix...\n",
            "Data shape: (9742, 20)\n",
            "Loading data from: /content/drive/MyDrive/Recommendation_Systems/datasets/large-dataset/movies.csv\n",
            "Creating binary genre matrix...\n",
            "Creating sparse CPU matrix...\n",
            "Data shape: (87585, 20)\n",
            "\n",
            "--- STARTING BENCHMARK FOR K = 10 ---\n",
            "\n",
            "--- Running: MovieLens Small (K=10) ---\n",
            "--- Running CPU (sklearn) Benchmark ---\n",
            "Running CPU KNN for K=10 on 9742 movies...\n",
            "(This will take a long time, especially on the large dataset.)\n",
            "CPU (sklearn) Total Time: 1.9674 seconds\n",
            "\n",
            "--- Running GPU (cuML) Benchmark ---\n",
            "Transferring sparse matrix to GPU...\n",
            "Running GPU KNN for K=10 on 9742 movies...\n",
            "GPU (cuML) Total Compute Time: 0.0373 seconds\n",
            "\n",
            "\n",
            "--- Running: MovieLens Latest (K=10) ---\n",
            "--- Running CPU (sklearn) Benchmark ---\n",
            "Running CPU KNN for K=10 on 87585 movies...\n",
            "(This will take a long time, especially on the large dataset.)\n",
            "CPU (sklearn) Total Time: 154.6863 seconds\n",
            "\n",
            "--- Running GPU (cuML) Benchmark ---\n",
            "Transferring sparse matrix to GPU...\n",
            "Running GPU KNN for K=10 on 87585 movies...\n",
            "GPU (cuML) Total Compute Time: 1.9501 seconds\n",
            "\n",
            "\n",
            "--- STARTING BENCHMARK FOR K = 50 ---\n",
            "\n",
            "--- Running: MovieLens Small (K=50) ---\n",
            "--- Running CPU (sklearn) Benchmark ---\n",
            "Running CPU KNN for K=50 on 9742 movies...\n",
            "(This will take a long time, especially on the large dataset.)\n",
            "CPU (sklearn) Total Time: 1.7931 seconds\n",
            "\n",
            "--- Running GPU (cuML) Benchmark ---\n",
            "Transferring sparse matrix to GPU...\n",
            "Running GPU KNN for K=50 on 9742 movies...\n",
            "GPU (cuML) Total Compute Time: 0.0252 seconds\n",
            "\n",
            "\n",
            "--- Running: MovieLens Latest (K=50) ---\n",
            "--- Running CPU (sklearn) Benchmark ---\n",
            "Running CPU KNN for K=50 on 87585 movies...\n",
            "(This will take a long time, especially on the large dataset.)\n",
            "CPU (sklearn) Total Time: 153.5211 seconds\n",
            "\n",
            "--- Running GPU (cuML) Benchmark ---\n",
            "Transferring sparse matrix to GPU...\n",
            "Running GPU KNN for K=50 on 87585 movies...\n",
            "GPU (cuML) Total Compute Time: 2.0208 seconds\n",
            "\n",
            "\n",
            "--- STARTING BENCHMARK FOR K = 100 ---\n",
            "\n",
            "--- Running: MovieLens Small (K=100) ---\n",
            "--- Running CPU (sklearn) Benchmark ---\n",
            "Running CPU KNN for K=100 on 9742 movies...\n",
            "(This will take a long time, especially on the large dataset.)\n",
            "CPU (sklearn) Total Time: 1.8362 seconds\n",
            "\n",
            "--- Running GPU (cuML) Benchmark ---\n",
            "Transferring sparse matrix to GPU...\n",
            "Running GPU KNN for K=100 on 9742 movies...\n",
            "GPU (cuML) Total Compute Time: 0.0387 seconds\n",
            "\n",
            "\n",
            "--- Running: MovieLens Latest (K=100) ---\n",
            "--- Running CPU (sklearn) Benchmark ---\n",
            "Running CPU KNN for K=100 on 87585 movies...\n",
            "(This will take a long time, especially on the large dataset.)\n",
            "CPU (sklearn) Total Time: 153.7421 seconds\n",
            "\n",
            "--- Running GPU (cuML) Benchmark ---\n",
            "Transferring sparse matrix to GPU...\n",
            "Running GPU KNN for K=100 on 87585 movies...\n",
            "GPU (cuML) Total Compute Time: 2.0770 seconds\n",
            "\n",
            "\n",
            "--- ALL K-VALUE BENCHMARKS COMPLETE ---\n"
          ]
        }
      ]
    },
    {
      "cell_type": "markdown",
      "source": [
        "## Step 3: Results & Visualization\n",
        "\n",
        "Now we'll print a summary of the results and plot them on a bar chart to visualize the massive difference in performance and scalability."
      ],
      "metadata": {
        "id": "ghWdpfkQ_LUC"
      }
    },
    {
      "cell_type": "code",
      "source": [
        "bench_df = pd.DataFrame(benchmark_results)\n",
        "\n",
        "print(\"--- Benchmark Results ---\")\n",
        "print(\"\\nFull Data Table:\")\n",
        "print(bench_df.to_markdown(index=False, floatfmt=\".4f\"))\n",
        "\n",
        "bench_pivot = bench_df.pivot_table(\n",
        "    index=['Dataset', 'K'],\n",
        "    columns='Library',\n",
        "    values='Time (s)'\n",
        ")\n",
        "bench_pivot['Speedup (x)'] = bench_pivot['scikit-learn (CPU)'] / bench_pivot['cuML (GPU)']\n",
        "\n",
        "print(\"\\nSpeedup Analysis Table:\")\n",
        "print(bench_pivot.to_markdown(floatfmt=\".2f\"))\n",
        "\n",
        "print(\"\\nPlotting results as grouped bar charts...\")\n",
        "\n",
        "g = sns.catplot(\n",
        "    data=bench_df,\n",
        "    x='Library',\n",
        "    y='Time (s)',\n",
        "    hue='Library',\n",
        "    col='K',\n",
        "    row='Dataset',\n",
        "    kind='bar',\n",
        "    palette=['#3498db', '#2ecc71'],\n",
        "    legend=True,\n",
        "    height=5,\n",
        "    aspect=0.8\n",
        ")\n",
        "\n",
        "g.set(yscale='log')\n",
        "\n",
        "for ax in g.axes.flat:\n",
        "    for p in ax.patches:\n",
        "        height = p.get_height()\n",
        "        if height > 0:\n",
        "            ax.annotate(\n",
        "                f\"{height:.2f} s\",\n",
        "                (p.get_x() + p.get_width() / 2., height),\n",
        "                ha='center',\n",
        "                va='bottom',\n",
        "                xytext=(0, 5),\n",
        "                textcoords='offset points',\n",
        "                fontsize=9,\n",
        "                color='black'\n",
        "            )\n",
        "\n",
        "g.fig.suptitle(\"CPU vs. GPU KNN Benchmark (Log Scale)\", y=1.05, fontsize=16)\n",
        "g.set_axis_labels(\"\", \"Total Time (seconds) [Log Scale]\")\n",
        "g.set_titles(\"Dataset: {row_name} | K = {col_name}\")\n",
        "\n",
        "min_val = bench_df['Time (s)'].min()\n",
        "g.set(ylim=(min_val * 0.1, None))\n",
        "g.set_xticklabels([])\n",
        "\n",
        "plt.show()"
      ],
      "metadata": {
        "colab": {
          "base_uri": "https://localhost:8080/",
          "height": 1000
        },
        "id": "ANx21IL2_OiB",
        "outputId": "a13bcaf3-bfa2-48c9-da61-1c1d04896605"
      },
      "execution_count": 41,
      "outputs": [
        {
          "output_type": "stream",
          "name": "stdout",
          "text": [
            "--- Benchmark Results ---\n",
            "\n",
            "Full Data Table:\n",
            "| Dataset               | Library            |   Time (s) |   K |\n",
            "|:----------------------|:-------------------|-----------:|----:|\n",
            "| Small (9742 movies)   | scikit-learn (CPU) |     1.9674 |  10 |\n",
            "| Small (9742 movies)   | cuML (GPU)         |     0.0373 |  10 |\n",
            "| Latest (87585 movies) | scikit-learn (CPU) |   154.6863 |  10 |\n",
            "| Latest (87585 movies) | cuML (GPU)         |     1.9501 |  10 |\n",
            "| Small (9742 movies)   | scikit-learn (CPU) |     1.7931 |  50 |\n",
            "| Small (9742 movies)   | cuML (GPU)         |     0.0252 |  50 |\n",
            "| Latest (87585 movies) | scikit-learn (CPU) |   153.5211 |  50 |\n",
            "| Latest (87585 movies) | cuML (GPU)         |     2.0208 |  50 |\n",
            "| Small (9742 movies)   | scikit-learn (CPU) |     1.8362 | 100 |\n",
            "| Small (9742 movies)   | cuML (GPU)         |     0.0387 | 100 |\n",
            "| Latest (87585 movies) | scikit-learn (CPU) |   153.7421 | 100 |\n",
            "| Latest (87585 movies) | cuML (GPU)         |     2.0770 | 100 |\n",
            "\n",
            "Speedup Analysis Table:\n",
            "|                                |   cuML (GPU) |   scikit-learn (CPU) |   Speedup (x) |\n",
            "|:-------------------------------|-------------:|---------------------:|--------------:|\n",
            "| ('Latest (87585 movies)', 10)  |         1.95 |               154.69 |         79.32 |\n",
            "| ('Latest (87585 movies)', 50)  |         2.02 |               153.52 |         75.97 |\n",
            "| ('Latest (87585 movies)', 100) |         2.08 |               153.74 |         74.02 |\n",
            "| ('Small (9742 movies)', 10)    |         0.04 |                 1.97 |         52.78 |\n",
            "| ('Small (9742 movies)', 50)    |         0.03 |                 1.79 |         71.16 |\n",
            "| ('Small (9742 movies)', 100)   |         0.04 |                 1.84 |         47.43 |\n",
            "\n",
            "Plotting results as grouped bar charts...\n"
          ]
        },
        {
          "output_type": "display_data",
          "data": {
            "text/plain": [
              "<Figure size 1369.75x1000 with 6 Axes>"
            ],
            "image/png": "[encoded data removed]"
          },
          "metadata": {}
        }
      ]
    },
    {
      "cell_type": "markdown",
      "source": [
        "## Conclusion (K-Scaling Analysis)\n",
        "\n",
        "This benchmark tested performance by scaling both the dataset size ($N$) and the number of neighbors ($K$).\n",
        "\n",
        "The results are clear:\n",
        "\n",
        "1.  **Massive Parallelism:** The GPU (cuML) remains orders of magnitude faster than the CPU (scikit-learn) in all scenarios. On the large \"Latest\" dataset, the GPU completed the task in **~2 seconds**, while the CPU required **~155 seconds** (over 2.5 minutes).\n",
        "\n",
        "2.  **Scalability (vs. N):** The GPU's advantage *dramatically* increases with dataset size ($N$). As seen in the pivot table, the speedup factor jumped from **~49x** on the \"Small\" dataset to **~81x** on the \"Latest\" dataset (at K=10).\n",
        "\n",
        "3.  **Scalability (vs. K):** A key insight from this test is that changing `K` (the number of neighbors) from 10 to 100 had a **negligible impact on performance** for both systems.\n",
        "    * The CPU's time on the large dataset remained flat at ~155 seconds.\n",
        "    * The GPU's time increased only slightly (from 1.92s to 2.04s).\n",
        "    * This proves that for a `brute-force` $O(N^2)$ algorithm, the overwhelming bottleneck is the **distance calculation** (comparing all 7.6 billion pairs), not the **neighbor selection** (sorting to find the top K).\n",
        "\n",
        "For modern, large-scale data, GPU acceleration is a game-changing technology. It provides superior performance and scalability, reducing tasks that take minutes for a CPU down to mere seconds."
      ],
      "metadata": {
        "id": "pb2ZMPn7_ZbZ"
      }
    }
  ]
}